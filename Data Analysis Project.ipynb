{
 "cells": [
  {
   "cell_type": "markdown",
   "metadata": {},
   "source": [
    "# Data Analysis Project"
   ]
  },
  {
   "cell_type": "code",
   "execution_count": 38,
   "metadata": {},
   "outputs": [],
   "source": [
    "import pandas as pd\n",
    "import numpy as np\n",
    "import seaborn as sns\n",
    "import matplotlib.pyplot as plt\n",
    "# from matplotlib_venn import venn2\n",
    "import pydst # Danmarks Statistik\n",
    "from datetime import datetime"
   ]
  },
  {
   "cell_type": "code",
   "execution_count": 39,
   "metadata": {},
   "outputs": [],
   "source": [
    "Dst = pydst.Dst(lang='en') # Set language to English"
   ]
  },
  {
   "cell_type": "code",
   "execution_count": 40,
   "metadata": {},
   "outputs": [
    {
     "data": {
      "text/html": [
       "<div>\n",
       "<style scoped>\n",
       "    .dataframe tbody tr th:only-of-type {\n",
       "        vertical-align: middle;\n",
       "    }\n",
       "\n",
       "    .dataframe tbody tr th {\n",
       "        vertical-align: top;\n",
       "    }\n",
       "\n",
       "    .dataframe thead th {\n",
       "        text-align: right;\n",
       "    }\n",
       "</style>\n",
       "<table border=\"1\" class=\"dataframe\">\n",
       "  <thead>\n",
       "    <tr style=\"text-align: right;\">\n",
       "      <th></th>\n",
       "      <th>active</th>\n",
       "      <th>desc</th>\n",
       "      <th>hasSubjects</th>\n",
       "      <th>id</th>\n",
       "    </tr>\n",
       "  </thead>\n",
       "  <tbody>\n",
       "    <tr>\n",
       "      <th>0</th>\n",
       "      <td>True</td>\n",
       "      <td>Population and elections</td>\n",
       "      <td>True</td>\n",
       "      <td>02</td>\n",
       "    </tr>\n",
       "    <tr>\n",
       "      <th>1</th>\n",
       "      <td>True</td>\n",
       "      <td>Living conditions</td>\n",
       "      <td>True</td>\n",
       "      <td>05</td>\n",
       "    </tr>\n",
       "    <tr>\n",
       "      <th>2</th>\n",
       "      <td>True</td>\n",
       "      <td>Education and knowledge</td>\n",
       "      <td>True</td>\n",
       "      <td>03</td>\n",
       "    </tr>\n",
       "    <tr>\n",
       "      <th>3</th>\n",
       "      <td>True</td>\n",
       "      <td>Culture and National Church</td>\n",
       "      <td>True</td>\n",
       "      <td>18</td>\n",
       "    </tr>\n",
       "    <tr>\n",
       "      <th>4</th>\n",
       "      <td>True</td>\n",
       "      <td>Labour, income and wealth</td>\n",
       "      <td>True</td>\n",
       "      <td>04</td>\n",
       "    </tr>\n",
       "    <tr>\n",
       "      <th>5</th>\n",
       "      <td>True</td>\n",
       "      <td>Prices and consumption</td>\n",
       "      <td>True</td>\n",
       "      <td>06</td>\n",
       "    </tr>\n",
       "    <tr>\n",
       "      <th>6</th>\n",
       "      <td>True</td>\n",
       "      <td>National accounts and government finances</td>\n",
       "      <td>True</td>\n",
       "      <td>14</td>\n",
       "    </tr>\n",
       "    <tr>\n",
       "      <th>7</th>\n",
       "      <td>True</td>\n",
       "      <td>Money and credit market</td>\n",
       "      <td>True</td>\n",
       "      <td>16</td>\n",
       "    </tr>\n",
       "    <tr>\n",
       "      <th>8</th>\n",
       "      <td>True</td>\n",
       "      <td>External economy</td>\n",
       "      <td>True</td>\n",
       "      <td>13</td>\n",
       "    </tr>\n",
       "    <tr>\n",
       "      <th>9</th>\n",
       "      <td>True</td>\n",
       "      <td>Business sector in general</td>\n",
       "      <td>True</td>\n",
       "      <td>07</td>\n",
       "    </tr>\n",
       "    <tr>\n",
       "      <th>10</th>\n",
       "      <td>True</td>\n",
       "      <td>Business sectors</td>\n",
       "      <td>True</td>\n",
       "      <td>11</td>\n",
       "    </tr>\n",
       "    <tr>\n",
       "      <th>11</th>\n",
       "      <td>True</td>\n",
       "      <td>Geography, environment and energy</td>\n",
       "      <td>True</td>\n",
       "      <td>01</td>\n",
       "    </tr>\n",
       "    <tr>\n",
       "      <th>12</th>\n",
       "      <td>True</td>\n",
       "      <td>Other</td>\n",
       "      <td>True</td>\n",
       "      <td>19</td>\n",
       "    </tr>\n",
       "  </tbody>\n",
       "</table>\n",
       "</div>"
      ],
      "text/plain": [
       "    active                                       desc  hasSubjects  id\n",
       "0     True                   Population and elections         True  02\n",
       "1     True                          Living conditions         True  05\n",
       "2     True                    Education and knowledge         True  03\n",
       "3     True                Culture and National Church         True  18\n",
       "4     True                  Labour, income and wealth         True  04\n",
       "5     True                     Prices and consumption         True  06\n",
       "6     True  National accounts and government finances         True  14\n",
       "7     True                    Money and credit market         True  16\n",
       "8     True                           External economy         True  13\n",
       "9     True                 Business sector in general         True  07\n",
       "10    True                           Business sectors         True  11\n",
       "11    True          Geography, environment and energy         True  01\n",
       "12    True                                      Other         True  19"
      ]
     },
     "execution_count": 40,
     "metadata": {},
     "output_type": "execute_result"
    }
   ],
   "source": [
    "Dst.get_subjects() # Get overview of Statistics Denmark's subjects"
   ]
  },
  {
   "cell_type": "code",
   "execution_count": 41,
   "metadata": {},
   "outputs": [
    {
     "data": {
      "text/html": [
       "<div>\n",
       "<style scoped>\n",
       "    .dataframe tbody tr th:only-of-type {\n",
       "        vertical-align: middle;\n",
       "    }\n",
       "\n",
       "    .dataframe tbody tr th {\n",
       "        vertical-align: top;\n",
       "    }\n",
       "\n",
       "    .dataframe thead th {\n",
       "        text-align: right;\n",
       "    }\n",
       "</style>\n",
       "<table border=\"1\" class=\"dataframe\">\n",
       "  <thead>\n",
       "    <tr style=\"text-align: right;\">\n",
       "      <th></th>\n",
       "      <th>POST</th>\n",
       "      <th>INDUDBOP</th>\n",
       "      <th>SÆSON</th>\n",
       "      <th>LAND</th>\n",
       "      <th>TID</th>\n",
       "      <th>INDHOLD</th>\n",
       "    </tr>\n",
       "  </thead>\n",
       "  <tbody>\n",
       "    <tr>\n",
       "      <th>0</th>\n",
       "      <td>GOODS (FOB)</td>\n",
       "      <td>Current receipts</td>\n",
       "      <td>Non-seasonally adjusted</td>\n",
       "      <td>REST OF THE WORLD</td>\n",
       "      <td>2005M01</td>\n",
       "      <td>34.8</td>\n",
       "    </tr>\n",
       "  </tbody>\n",
       "</table>\n",
       "</div>"
      ],
      "text/plain": [
       "          POST          INDUDBOP                    SÆSON               LAND  \\\n",
       "0  GOODS (FOB)  Current receipts  Non-seasonally adjusted  REST OF THE WORLD   \n",
       "\n",
       "       TID  INDHOLD  \n",
       "0  2005M01     34.8  "
      ]
     },
     "execution_count": 41,
     "metadata": {},
     "output_type": "execute_result"
    }
   ],
   "source": [
    "Dst.get_data(table_id = 'BB1S')"
   ]
  },
  {
   "cell_type": "code",
   "execution_count": 5,
   "metadata": {},
   "outputs": [],
   "source": [
    "Var = Dst.get_variables(table_id = 'BB1S')"
   ]
  },
  {
   "cell_type": "code",
   "execution_count": 6,
   "metadata": {},
   "outputs": [
    {
     "data": {
      "text/html": [
       "<div>\n",
       "<style scoped>\n",
       "    .dataframe tbody tr th:only-of-type {\n",
       "        vertical-align: middle;\n",
       "    }\n",
       "\n",
       "    .dataframe tbody tr th {\n",
       "        vertical-align: top;\n",
       "    }\n",
       "\n",
       "    .dataframe thead th {\n",
       "        text-align: right;\n",
       "    }\n",
       "</style>\n",
       "<table border=\"1\" class=\"dataframe\">\n",
       "  <thead>\n",
       "    <tr style=\"text-align: right;\">\n",
       "      <th></th>\n",
       "      <th>elimination</th>\n",
       "      <th>id</th>\n",
       "      <th>text</th>\n",
       "      <th>time</th>\n",
       "      <th>values</th>\n",
       "    </tr>\n",
       "  </thead>\n",
       "  <tbody>\n",
       "    <tr>\n",
       "      <th>0</th>\n",
       "      <td>True</td>\n",
       "      <td>POST</td>\n",
       "      <td>items</td>\n",
       "      <td>False</td>\n",
       "      <td>[{'id': '1.A.A', 'text': 'GOODS (FOB)'}, {'id'...</td>\n",
       "    </tr>\n",
       "    <tr>\n",
       "      <th>1</th>\n",
       "      <td>False</td>\n",
       "      <td>INDUDBOP</td>\n",
       "      <td>receipts/expenditure</td>\n",
       "      <td>False</td>\n",
       "      <td>[{'id': 'K', 'text': 'Current receipts'}, {'id...</td>\n",
       "    </tr>\n",
       "    <tr>\n",
       "      <th>2</th>\n",
       "      <td>False</td>\n",
       "      <td>SÆSON</td>\n",
       "      <td>seasonal adjustment</td>\n",
       "      <td>False</td>\n",
       "      <td>[{'id': '1', 'text': 'Non-seasonally adjusted'...</td>\n",
       "    </tr>\n",
       "    <tr>\n",
       "      <th>3</th>\n",
       "      <td>True</td>\n",
       "      <td>LAND</td>\n",
       "      <td>country</td>\n",
       "      <td>False</td>\n",
       "      <td>[{'id': 'W1', 'text': 'REST OF THE WORLD'}, {'...</td>\n",
       "    </tr>\n",
       "    <tr>\n",
       "      <th>4</th>\n",
       "      <td>False</td>\n",
       "      <td>Tid</td>\n",
       "      <td>time</td>\n",
       "      <td>True</td>\n",
       "      <td>[{'id': '2005M01', 'text': '2005M01'}, {'id': ...</td>\n",
       "    </tr>\n",
       "  </tbody>\n",
       "</table>\n",
       "</div>"
      ],
      "text/plain": [
       "   elimination        id                  text   time  \\\n",
       "0         True      POST                 items  False   \n",
       "1        False  INDUDBOP  receipts/expenditure  False   \n",
       "2        False     SÆSON   seasonal adjustment  False   \n",
       "3         True      LAND               country  False   \n",
       "4        False       Tid                  time   True   \n",
       "\n",
       "                                              values  \n",
       "0  [{'id': '1.A.A', 'text': 'GOODS (FOB)'}, {'id'...  \n",
       "1  [{'id': 'K', 'text': 'Current receipts'}, {'id...  \n",
       "2  [{'id': '1', 'text': 'Non-seasonally adjusted'...  \n",
       "3  [{'id': 'W1', 'text': 'REST OF THE WORLD'}, {'...  \n",
       "4  [{'id': '2005M01', 'text': '2005M01'}, {'id': ...  "
      ]
     },
     "execution_count": 6,
     "metadata": {},
     "output_type": "execute_result"
    }
   ],
   "source": [
    "Var[:]"
   ]
  },
  {
   "cell_type": "code",
   "execution_count": 7,
   "metadata": {},
   "outputs": [
    {
     "data": {
      "text/plain": [
       "[{'id': 'W1', 'text': 'REST OF THE WORLD'},\n",
       " {'id': 'B5', 'text': 'EU-28'},\n",
       " {'id': 'D5', 'text': 'Extra EU-28'}]"
      ]
     },
     "execution_count": 7,
     "metadata": {},
     "output_type": "execute_result"
    }
   ],
   "source": [
    "Var['values'][3][:10]"
   ]
  },
  {
   "cell_type": "code",
   "execution_count": null,
   "metadata": {},
   "outputs": [],
   "source": []
  },
  {
   "cell_type": "code",
   "execution_count": null,
   "metadata": {},
   "outputs": [],
   "source": []
  },
  {
   "cell_type": "markdown",
   "metadata": {},
   "source": []
  },
  {
   "cell_type": "code",
   "execution_count": 42,
   "metadata": {},
   "outputs": [],
   "source": [
    "df= Dst.get_data(table_id = 'BB1S', variables={'TID':['*'], 'SÆSON':['2'], 'LAND':['W1'], 'POST':['*'], 'INDUDBOP':['N']})"
   ]
  },
  {
   "cell_type": "code",
   "execution_count": 43,
   "metadata": {},
   "outputs": [],
   "source": [
    "df.sort_values(['TID'], inplace=True)"
   ]
  },
  {
   "cell_type": "code",
   "execution_count": 44,
   "metadata": {},
   "outputs": [],
   "source": []
  },
  {
   "cell_type": "code",
   "execution_count": 45,
   "metadata": {},
   "outputs": [
    {
     "data": {
      "text/html": [
       "<div>\n",
       "<style scoped>\n",
       "    .dataframe tbody tr th:only-of-type {\n",
       "        vertical-align: middle;\n",
       "    }\n",
       "\n",
       "    .dataframe tbody tr th {\n",
       "        vertical-align: top;\n",
       "    }\n",
       "\n",
       "    .dataframe thead th {\n",
       "        text-align: right;\n",
       "    }\n",
       "</style>\n",
       "<table border=\"1\" class=\"dataframe\">\n",
       "  <thead>\n",
       "    <tr style=\"text-align: right;\">\n",
       "      <th></th>\n",
       "      <th>TID</th>\n",
       "      <th>SÆSON</th>\n",
       "      <th>LAND</th>\n",
       "      <th>POST</th>\n",
       "      <th>INDUDBOP</th>\n",
       "      <th>INDHOLD</th>\n",
       "    </tr>\n",
       "  </thead>\n",
       "  <tbody>\n",
       "    <tr>\n",
       "      <th>174</th>\n",
       "      <td>2005M01</td>\n",
       "      <td>Seasonally adjusted</td>\n",
       "      <td>REST OF THE WORLD</td>\n",
       "      <td>PRIMARY INCOME</td>\n",
       "      <td>Net receipts</td>\n",
       "      <td>0.6</td>\n",
       "    </tr>\n",
       "    <tr>\n",
       "      <th>173</th>\n",
       "      <td>2005M01</td>\n",
       "      <td>Seasonally adjusted</td>\n",
       "      <td>REST OF THE WORLD</td>\n",
       "      <td>SERVICES</td>\n",
       "      <td>Net receipts</td>\n",
       "      <td>2.1</td>\n",
       "    </tr>\n",
       "    <tr>\n",
       "      <th>175</th>\n",
       "      <td>2005M01</td>\n",
       "      <td>Seasonally adjusted</td>\n",
       "      <td>REST OF THE WORLD</td>\n",
       "      <td>SECONDARY INCOME</td>\n",
       "      <td>Net receipts</td>\n",
       "      <td>-2.2</td>\n",
       "    </tr>\n",
       "    <tr>\n",
       "      <th>172</th>\n",
       "      <td>2005M01</td>\n",
       "      <td>Seasonally adjusted</td>\n",
       "      <td>REST OF THE WORLD</td>\n",
       "      <td>GOODS (FOB)</td>\n",
       "      <td>Net receipts</td>\n",
       "      <td>5.8</td>\n",
       "    </tr>\n",
       "    <tr>\n",
       "      <th>171</th>\n",
       "      <td>2005M01</td>\n",
       "      <td>Seasonally adjusted</td>\n",
       "      <td>REST OF THE WORLD</td>\n",
       "      <td>CURRENT ACCOUNT</td>\n",
       "      <td>Net receipts</td>\n",
       "      <td>6.3</td>\n",
       "    </tr>\n",
       "  </tbody>\n",
       "</table>\n",
       "</div>"
      ],
      "text/plain": [
       "         TID                SÆSON               LAND              POST  \\\n",
       "174  2005M01  Seasonally adjusted  REST OF THE WORLD    PRIMARY INCOME   \n",
       "173  2005M01  Seasonally adjusted  REST OF THE WORLD          SERVICES   \n",
       "175  2005M01  Seasonally adjusted  REST OF THE WORLD  SECONDARY INCOME   \n",
       "172  2005M01  Seasonally adjusted  REST OF THE WORLD       GOODS (FOB)   \n",
       "171  2005M01  Seasonally adjusted  REST OF THE WORLD   CURRENT ACCOUNT   \n",
       "\n",
       "         INDUDBOP  INDHOLD  \n",
       "174  Net receipts      0.6  \n",
       "173  Net receipts      2.1  \n",
       "175  Net receipts     -2.2  \n",
       "172  Net receipts      5.8  \n",
       "171  Net receipts      6.3  "
      ]
     },
     "execution_count": 45,
     "metadata": {},
     "output_type": "execute_result"
    }
   ],
   "source": [
    "df.head(5)"
   ]
  },
  {
   "cell_type": "code",
   "execution_count": 46,
   "metadata": {},
   "outputs": [],
   "source": [
    "df['TID'] = df['TID'].str.replace('M', '-')"
   ]
  },
  {
   "cell_type": "code",
   "execution_count": 52,
   "metadata": {},
   "outputs": [],
   "source": [
    "df['TID'] = pd.to_datetime(df['TID'])"
   ]
  },
  {
   "cell_type": "code",
   "execution_count": 53,
   "metadata": {},
   "outputs": [],
   "source": [
    "PI  = df.loc[df['POST'] == 'PRIMARY INCOME', :]"
   ]
  },
  {
   "cell_type": "code",
   "execution_count": 55,
   "metadata": {},
   "outputs": [
    {
     "data": {
      "text/plain": [
       "174   2005-01-01\n",
       "179   2005-02-01\n",
       "184   2005-03-01\n",
       "189   2005-04-01\n",
       "194   2005-05-01\n",
       "199   2005-06-01\n",
       "204   2005-07-01\n",
       "209   2005-08-01\n",
       "214   2005-09-01\n",
       "219   2005-10-01\n",
       "224   2005-11-01\n",
       "229   2005-12-01\n",
       "234   2006-01-01\n",
       "239   2006-02-01\n",
       "244   2006-03-01\n",
       "249   2006-04-01\n",
       "254   2006-05-01\n",
       "259   2006-06-01\n",
       "264   2006-07-01\n",
       "269   2006-08-01\n",
       "274   2006-09-01\n",
       "279   2006-10-01\n",
       "284   2006-11-01\n",
       "289   2006-12-01\n",
       "294   2007-01-01\n",
       "299   2007-02-01\n",
       "304   2007-03-01\n",
       "309   2007-04-01\n",
       "0     2007-05-01\n",
       "5     2007-06-01\n",
       "         ...    \n",
       "454   2016-08-01\n",
       "484   2016-09-01\n",
       "489   2016-10-01\n",
       "494   2016-11-01\n",
       "499   2016-12-01\n",
       "504   2017-01-01\n",
       "533   2017-02-01\n",
       "538   2017-03-01\n",
       "543   2017-04-01\n",
       "548   2017-05-01\n",
       "553   2017-06-01\n",
       "582   2017-07-01\n",
       "587   2017-08-01\n",
       "592   2017-09-01\n",
       "597   2017-10-01\n",
       "602   2017-11-01\n",
       "632   2017-12-01\n",
       "637   2018-01-01\n",
       "642   2018-02-01\n",
       "647   2018-03-01\n",
       "652   2018-04-01\n",
       "681   2018-05-01\n",
       "686   2018-06-01\n",
       "691   2018-07-01\n",
       "696   2018-08-01\n",
       "701   2018-09-01\n",
       "730   2018-10-01\n",
       "735   2018-11-01\n",
       "740   2018-12-01\n",
       "745   2019-01-01\n",
       "Name: TID, Length: 169, dtype: datetime64[ns]"
      ]
     },
     "execution_count": 55,
     "metadata": {},
     "output_type": "execute_result"
    }
   ],
   "source": [
    "PI['TID']"
   ]
  },
  {
   "cell_type": "code",
   "execution_count": null,
   "metadata": {},
   "outputs": [],
   "source": []
  },
  {
   "cell_type": "code",
   "execution_count": 17,
   "metadata": {},
   "outputs": [],
   "source": []
  },
  {
   "cell_type": "code",
   "execution_count": 15,
   "metadata": {},
   "outputs": [],
   "source": []
  },
  {
   "cell_type": "code",
   "execution_count": null,
   "metadata": {},
   "outputs": [],
   "source": []
  },
  {
   "cell_type": "code",
   "execution_count": 56,
   "metadata": {},
   "outputs": [
    {
     "data": {
      "image/png": "[encoded data removed]",
      "text/plain": [
       "<Figure size 432x288 with 1 Axes>"
      ]
     },
     "metadata": {
      "needs_background": "light"
     },
     "output_type": "display_data"
    }
   ],
   "source": [
    "fig, ax = plt.subplots()\n",
    "\n",
    "ax.plot(PI['TID'],PI['INDHOLD'])\n",
    "\n",
    "\n",
    "plt.show()"
   ]
  }
 ],
 "metadata": {
  "kernelspec": {
   "display_name": "Python 3",
   "language": "python",
   "name": "python3"
  },
  "language_info": {
   "codemirror_mode": {
    "name": "ipython",
    "version": 3
   },
   "file_extension": ".py",
   "mimetype": "text/x-python",
   "name": "python",
   "nbconvert_exporter": "python",
   "pygments_lexer": "ipython3",
   "version": "3.7.1"
  }
 },
 "nbformat": 4,
 "nbformat_minor": 2
}
